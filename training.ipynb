{
 "cells": [
  {
   "cell_type": "code",
   "execution_count": 23,
   "metadata": {},
   "outputs": [],
   "source": [
    "import re\n",
    "import gc\n",
    "\n",
    "import pandas as pd\n",
    "import numpy as np\n",
    "from tqdm import tqdm\n",
    "\n",
    "import keras\n",
    "from keras import losses, metrics, layers, ops\n",
    "\n",
    "from sklearn.model_selection import train_test_split\n",
    "from sklearn.utils import shuffle"
   ]
  },
  {
   "cell_type": "code",
   "execution_count": 24,
   "metadata": {},
   "outputs": [
    {
     "name": "stdout",
     "output_type": "stream",
     "text": [
      "env: TF_GPU_ALLOCATOR=cuda_malloc_async\n"
     ]
    }
   ],
   "source": [
    "%env TF_GPU_ALLOCATOR=cuda_malloc_async"
   ]
  },
  {
   "cell_type": "code",
   "execution_count": 25,
   "metadata": {},
   "outputs": [],
   "source": [
    "]]]]]]]]]]]]]]]]]]]]]\n",
    "]]]]train_df = pd.read_csv('data/train.csv')"
   ]
  },
  {
   "cell_type": "code",
   "execution_count": 26,
   "metadata": {},
   "outputs": [],
   "source": [
    "train_set_df = train_df[['agent1', 'agent2', 'EnglishRules', 'LudRules']]"
   ]
  },
  {
   "cell_type": "code",
   "execution_count": 27,
   "metadata": {},
   "outputs": [],
   "source": [
    "lud_preprocessor = layers.TextVectorization(\n",
    "    vocabulary='ludii_tokens.dic',\n",
    "    standardize='strip_punctuation'\n",
    ")\n",
    "\n",
    "eng_preprocessor = layers.TextVectorization(\n",
    "    vocabulary='eng_tokens.dic'\n",
    ")\n",
    "\n",
    "max_eng = 0\n",
    "max_lud = 0\n",
    "\n",
    "eng_uniques = train_set_df['EnglishRules'].unique()\n",
    "\n",
    "# for engrul in tqdm(eng_uniques):\n",
    "#     eng_vector = eng_preprocessor(engrul)\n",
    "#     max_eng = max(max_eng, eng_vector.shape[0])\n",
    "\n",
    "# print(max_eng)\n"
   ]
  },
  {
   "cell_type": "code",
   "execution_count": 28,
   "metadata": {},
   "outputs": [],
   "source": [
    "lud_uniques = train_set_df['LudRules'].unique()\n",
    "\n",
    "EQPMNT_RE = r'\\(equipment'\n",
    "RULESTRIP_RE = r'[^a-zA-Z\\(\\)\\{\\}]'\n",
    "\n",
    "# for rule in lud_uniques:\n",
    "#     start = re.search(EQPMNT_RE, rule).span()[0]\n",
    "#     pure_rule = rule[start:]\n",
    "#     pure_rule = re.sub(RULESTRIP_RE, ' ', pure_rule)\n",
    "#     lud_vector = lud_preprocessor(pure_rule)\n",
    "#     max_lud = max(max_lud, lud_vector.shape[0])\n",
    "\n",
    "# print(max_lud)"
   ]
  },
  {
   "cell_type": "code",
   "execution_count": 29,
   "metadata": {},
   "outputs": [],
   "source": [
    "agent1_uniques = train_set_df['agent1'].unique()\n",
    "agent2_uniques = train_set_df['agent2'].unique()\n",
    "\n",
    "set(agent1_uniques) >= set(agent2_uniques)\n",
    "\n",
    "code_agent = {}\n",
    "agent_code = {}\n",
    "\n",
    "for id, agent in enumerate(agent1_uniques):\n",
    "    code_agent[id] = agent\n",
    "    agent_code[agent] = id\n"
   ]
  },
  {
   "cell_type": "markdown",
   "metadata": {},
   "source": [
    "eng_vector.shape=(900,)\n",
    "\n",
    "lud_vector.shape=(23700,)\n",
    "\n",
    "agents_to_categorical.shape=(144)"
   ]
  },
  {
   "cell_type": "code",
   "execution_count": 30,
   "metadata": {},
   "outputs": [],
   "source": [
    "# 900+23700+144 = 24744\n",
    "# defining input shape and input data distribution\n",
    "\n",
    "agents_len = 144\n",
    "engvector_len = 900\n",
    "ludvector_len = 23700\n",
    "\n",
    "enter = layers.Input(shape=(24744,))\n",
    "agent_input_layer = layers.Input(shape=(agents_len,))\n",
    "agent_input_data = ops.slice(enter, (0,), (agents_len,))\n",
    "\n",
    "engrul_input_data = ops.slice(enter, (agents_len,), (engvector_len,))\n",
    "\n",
    "ludrul_input_data = ops.slice(enter, (agents_len+engvector_len,), (ludvector_len,))"
   ]
  },
  {
   "cell_type": "code",
   "execution_count": 31,
   "metadata": {},
   "outputs": [],
   "source": [
    "# English rules LSTM features extractor.\n",
    "# \n",
    "# Train set contains 384 preextracted features.\n",
    "# Let`s assume that game rule contains these features and ather that describes \n",
    "# Number of these features is unknown and needs to be discovered\n",
    "# presume that total amount of fetures, that are important for game result prediction is not less then double amount \n",
    "# of preextracted features and to be 800\n",
    "\n",
    "FEATURES_NUM = 128\n",
    "ENG_VECTOR_DIM = 128\n",
    "LUD_VECTOR_DIM = 128\n"
   ]
  },
  {
   "cell_type": "code",
   "execution_count": 32,
   "metadata": {},
   "outputs": [],
   "source": [
    "# EngRule LSTM\n",
    "\n",
    "engrul_input_layer = layers.Input(shape=(1, engvector_len,))\n",
    "flatten = layers.Flatten()(engrul_input_layer)\n",
    "eng_emb = layers.Embedding(input_dim=3692, output_dim=ENG_VECTOR_DIM)(flatten)\n",
    "eng_x = layers.LSTM(ENG_VECTOR_DIM)(eng_emb)\n",
    "# eng_x = layers.LSTM(ENG_VECTOR_DIM)(eng_x)\n",
    "eng_out = layers.Dense(FEATURES_NUM, activation='relu')(eng_x)\n",
    "\n",
    "# model = keras.Model(inputs=[enter], outputs=[eng_out])\n",
    "\n",
    "# model.summary()"
   ]
  },
  {
   "cell_type": "code",
   "execution_count": 11,
   "metadata": {},
   "outputs": [],
   "source": [
    "# LudRule LSTM\n",
    "\n",
    "ludrul_input_layer = layers.Input(shape=(1, ludvector_len,))\n",
    "flatten = layers.Flatten()(ludrul_input_layer)\n",
    "lud_emb = layers.Embedding(input_dim=1240, output_dim=LUD_VECTOR_DIM)(flatten)\n",
    "lud_x = layers.LSTM(LUD_VECTOR_DIM)(lud_emb)\n",
    "# lud_x = layers.LSTM(LUD_VECTOR_DIM)(lud_x)\n",
    "lud_out = layers.Dense(FEATURES_NUM, activation='relu')(lud_x)\n"
   ]
  },
  {
   "cell_type": "code",
   "execution_count": 12,
   "metadata": {},
   "outputs": [],
   "source": [
    "assemble = layers.Concatenate(axis=1)([agent_input_layer, eng_out, lud_out])\n",
    "x = layers.Dense(1200, activation='relu')(assemble)\n",
    "x = layers.Dense(512, activation='relu')(x)\n",
    "x = layers.Dropout(0.3)(x)\n",
    "x = layers.Dense(256, activation='relu')(x)\n",
    "x = layers.Dropout(0.3)(x)\n",
    "out = layers.Dense(1, activation='tanh')(x)\n",
    "\n",
    "model = keras.Model(inputs=[agent_input_layer, engrul_input_layer, ludrul_input_layer],\n",
    "                    outputs=[out])\n"
   ]
  },
  {
   "cell_type": "code",
   "execution_count": 13,
   "metadata": {},
   "outputs": [],
   "source": [
    "# model.summary()"
   ]
  },
  {
   "cell_type": "code",
   "execution_count": 14,
   "metadata": {},
   "outputs": [],
   "source": [
    "# keras.utils.plot_model(model,\n",
    "#                        show_shapes=True,\n",
    "#                        expand_nested=True,\n",
    "#                        show_layer_activations=True)"
   ]
  },
  {
   "cell_type": "code",
   "execution_count": null,
   "metadata": {},
   "outputs": [],
   "source": []
  },
  {
   "cell_type": "markdown",
   "metadata": {},
   "source": [
    "## DataGenerator"
   ]
  },
  {
   "cell_type": "code",
   "execution_count": 15,
   "metadata": {},
   "outputs": [],
   "source": [
    "\n",
    "class GameDataGenerator(keras.utils.Sequence):\n",
    "    eqpmnt_re = r'\\(equipment'\n",
    "    rulestrip_re = r'[^a-zA-Z\\(\\)\\{\\}]'\n",
    "    engvector_len = 900\n",
    "    ludvector_len = 23700\n",
    "    \n",
    "    def __init__(self, list_IDs, dataframe, labels_dict, batch_size=32, shuffle=True):\n",
    "        self.batch_size = batch_size\n",
    "        self.list_IDs = list_IDs\n",
    "        self.labels_dict = labels_dict\n",
    "        self.df = dataframe[['agent1', 'agent2', 'EnglishRules', 'LudRules']]\n",
    "        self.shuffle = shuffle\n",
    "        self.indexes = np.arange(len(self.list_IDs))\n",
    "        self._agent_code = agent_code\n",
    "    \n",
    "    @property\n",
    "    def agent_code(self):\n",
    "        return self._agent_code\n",
    "\n",
    "    @agent_code.setter\n",
    "    def agent_code(self):\n",
    "        agents = self.df['agent1'].unique().tolist()\n",
    "        agents.sort()\n",
    "        ret = {}\n",
    "        for id_, agent in enumerate(agents):\n",
    "            ret[agent] = id_\n",
    "        self._agent_code = ret\n",
    "\n",
    "    def __len__(self):\n",
    "        return int(np.floor(len(self.list_IDs) / self.batch_size))\n",
    "\n",
    "    def __getitem__(self, batch_num):\n",
    "          # Generate indexes of the batch\n",
    "        indexes = self.indexes[batch_num*self.batch_size:(batch_num+1)*self.batch_size]\n",
    "        # Find list of IDs\n",
    "        list_IDs_temp = [self.list_IDs[k] for k in indexes]\n",
    "        # Generate data\n",
    "        X, y = self.__data_generation(list_IDs_temp)\n",
    "\n",
    "        return X, y\n",
    "\n",
    "    def on_epoch_ends(self):\n",
    "        self.indexes = np.arange(len(self.list_IDs))\n",
    "        if self.shuffle:\n",
    "            np.random.shuffle(self.indexes)\n",
    "    \n",
    "    def _lud_prepare(self, rule) -> str:\n",
    "        start = re.search(self.eqpmnt_re, rule).span()[0]\n",
    "        pure_rule = rule[start:]\n",
    "        pure_rule = re.sub(self.rulestrip_re, ' ', pure_rule)\n",
    "        return pure_rule\n",
    "\n",
    "    def __data_generation(self, list_IDs_temp):\n",
    "        X_agents = []\n",
    "        X_engvectors = []\n",
    "        X_ludvectors = []\n",
    "        y = []\n",
    "\n",
    "        agents_num = len(self.agent_code)\n",
    "        # Generate data\n",
    "        for i, ID in enumerate(list_IDs_temp):\n",
    "            row = self.df.loc[ID]\n",
    "            agent1, agent2, engrul, ludrul = row\n",
    "\n",
    "            y.append(self.labels_dict[ID])\n",
    "\n",
    "            agent1_encoded = keras.utils.to_categorical(self.agent_code[agent1], agents_num)\n",
    "            agent2_encoded = keras.utils.to_categorical(self.agent_code[agent2], agents_num)\n",
    "            agents_encoded = np.hstack((agent1_encoded, agent2_encoded))\n",
    "            X_agents.append(np.array(agents_encoded))\n",
    "\n",
    "            engrul_vector = eng_preprocessor(engrul)\n",
    "            engrul_vector = keras.utils.pad_sequences((engrul_vector,), maxlen=self.engvector_len)\n",
    "            X_engvectors.append(engrul_vector)\n",
    "\n",
    "            ludrul_vector = lud_preprocessor(self._lud_prepare(ludrul))\n",
    "            ludrul_vector = keras.utils.pad_sequences((ludrul_vector,), maxlen=self.ludvector_len)\n",
    "            X_ludvectors.append(ludrul_vector)\n",
    "\n",
    "        return (np.array(X_agents), np.array(X_engvectors), np.array(X_ludvectors)), np.array(y)"
   ]
  },
  {
   "cell_type": "code",
   "execution_count": 16,
   "metadata": {},
   "outputs": [],
   "source": [
    "train_shuffled_df = shuffle(train_df)\n",
    "\n",
    "labels = train_shuffled_df['utility_agent1'].to_dict()\n",
    "\n",
    "X_train, X_test = train_test_split(train_shuffled_df, test_size=0.25)"
   ]
  },
  {
   "cell_type": "code",
   "execution_count": 17,
   "metadata": {},
   "outputs": [
    {
     "data": {
      "text/plain": [
       "Index([103992,  94959,  29277, 212382, 171032, 110152, 175886,  27136, 185061,\n",
       "        78839,\n",
       "       ...\n",
       "        27451,  24692, 133737, 165707,  57650,  10439, 103233, 146205,  57026,\n",
       "       210045],\n",
       "      dtype='int64', length=174925)"
      ]
     },
     "execution_count": 17,
     "metadata": {},
     "output_type": "execute_result"
    }
   ],
   "source": [
    "X_train.index"
   ]
  },
  {
   "cell_type": "code",
   "execution_count": 18,
   "metadata": {},
   "outputs": [],
   "source": [
    "BATCH_SIZE = 2"
   ]
  },
  {
   "cell_type": "code",
   "execution_count": 19,
   "metadata": {},
   "outputs": [],
   "source": [
    "train_generator = GameDataGenerator(X_train.index, train_shuffled_df, labels, batch_size=BATCH_SIZE)\n",
    "test_generator = GameDataGenerator(X_test.index, train_shuffled_df, labels, batch_size=BATCH_SIZE)"
   ]
  },
  {
   "cell_type": "code",
   "execution_count": 20,
   "metadata": {},
   "outputs": [],
   "source": [
    "model.compile(optimizer='adam',\n",
    "              loss=losses.MeanSquaredError(),\n",
    "              metrics=[metrics.MeanSquaredError()]\n",
    "              )"
   ]
  },
  {
   "cell_type": "code",
   "execution_count": 21,
   "metadata": {},
   "outputs": [
    {
     "data": {
      "text/plain": [
       "[PhysicalDevice(name='/physical_device:GPU:0', device_type='GPU')]"
      ]
     },
     "execution_count": 21,
     "metadata": {},
     "output_type": "execute_result"
    }
   ],
   "source": [
    "import tensorflow as tf\n",
    "tf.config.list_physical_devices('GPU')"
   ]
  },
  {
   "cell_type": "code",
   "execution_count": 22,
   "metadata": {},
   "outputs": [],
   "source": [
    "model = keras.saving.load_model('lstm_both_epoch03_val_0.1407.keras')"
   ]
  },
  {
   "cell_type": "code",
   "execution_count": 23,
   "metadata": {},
   "outputs": [
    {
     "name": "stdout",
     "output_type": "stream",
     "text": [
      "Epoch 1/10\n",
      "\u001b[1m 7678/87462\u001b[0m \u001b[32m━\u001b[0m\u001b[37m━━━━━━━━━━━━━━━━━━━\u001b[0m \u001b[1m11:42:43\u001b[0m 528ms/step - loss: 0.1436 - mean_squared_error: 0.1436"
     ]
    },
    {
     "name": "stderr",
     "output_type": "stream",
     "text": [
      "2024-10-23 05:37:12.560367: E external/local_xla/xla/stream_executor/gpu/gpu_cudamallocasync_allocator.cc:310] gpu_async_0 cuMemAllocAsync failed to allocate 154537248 bytes: CUDA error: out of memory (CUDA_ERROR_OUT_OF_MEMORY)\n",
      " Reported by CUDA: Free memory/Total memory: 145883136/4086169600\n",
      "2024-10-23 05:37:12.560408: E external/local_xla/xla/stream_executor/gpu/gpu_cudamallocasync_allocator.cc:315] Stats: Limit:                      2922512384\n",
      "InUse:                       255196040\n",
      "MaxInUse:                    409733284\n",
      "NumAllocs:                   119006190\n",
      "MaxAllocSize:                154537248\n",
      "Reserved:                            0\n",
      "PeakReserved:                        0\n",
      "LargestFreeBlock:                    0\n",
      "\n",
      "2024-10-23 05:37:12.563687: E external/local_xla/xla/stream_executor/gpu/gpu_cudamallocasync_allocator.cc:64] Histogram of current allocation: (allocation_size_in_bytes, nb_allocation_of_that_sizes), ...;\n",
      "2024-10-23 05:37:12.563725: E external/local_xla/xla/stream_executor/gpu/gpu_cudamallocasync_allocator.cc:67] 4, 274365\n",
      "2024-10-23 05:37:12.563738: E external/local_xla/xla/stream_executor/gpu/gpu_cudamallocasync_allocator.cc:67] 8, 8\n",
      "2024-10-23 05:37:12.563749: E external/local_xla/xla/stream_executor/gpu/gpu_cudamallocasync_allocator.cc:67] 16, 5\n",
      "2024-10-23 05:37:12.563760: E external/local_xla/xla/stream_executor/gpu/gpu_cudamallocasync_allocator.cc:67] 512, 9\n",
      "2024-10-23 05:37:12.563770: E external/local_xla/xla/stream_executor/gpu/gpu_cudamallocasync_allocator.cc:67] 1024, 13\n",
      "2024-10-23 05:37:12.563780: E external/local_xla/xla/stream_executor/gpu/gpu_cudamallocasync_allocator.cc:67] 1028, 1\n",
      "2024-10-23 05:37:12.563790: E external/local_xla/xla/stream_executor/gpu/gpu_cudamallocasync_allocator.cc:67] 2048, 12\n",
      "2024-10-23 05:37:12.563804: E external/local_xla/xla/stream_executor/gpu/gpu_cudamallocasync_allocator.cc:67] 4800, 3\n",
      "2024-10-23 05:37:12.563829: E external/local_xla/xla/stream_executor/gpu/gpu_cudamallocasync_allocator.cc:67] 7200, 1\n",
      "2024-10-23 05:37:12.563842: E external/local_xla/xla/stream_executor/gpu/gpu_cudamallocasync_allocator.cc:67] 65536, 10\n",
      "2024-10-23 05:37:12.563858: E external/local_xla/xla/stream_executor/gpu/gpu_cudamallocasync_allocator.cc:67] 189600, 1\n",
      "2024-10-23 05:37:12.563870: E external/local_xla/xla/stream_executor/gpu/gpu_cudamallocasync_allocator.cc:67] 262144, 12\n",
      "2024-10-23 05:37:12.563885: E external/local_xla/xla/stream_executor/gpu/gpu_cudamallocasync_allocator.cc:67] 524288, 3\n",
      "2024-10-23 05:37:12.563896: E external/local_xla/xla/stream_executor/gpu/gpu_cudamallocasync_allocator.cc:67] 528384, 3\n",
      "2024-10-23 05:37:12.563903: E external/local_xla/xla/stream_executor/gpu/gpu_cudamallocasync_allocator.cc:67] 634880, 3\n",
      "2024-10-23 05:37:12.563909: E external/local_xla/xla/stream_executor/gpu/gpu_cudamallocasync_allocator.cc:67] 921600, 1\n",
      "2024-10-23 05:37:12.563916: E external/local_xla/xla/stream_executor/gpu/gpu_cudamallocasync_allocator.cc:67] 1890304, 3\n",
      "2024-10-23 05:37:12.563923: E external/local_xla/xla/stream_executor/gpu/gpu_cudamallocasync_allocator.cc:67] 1920000, 4\n",
      "2024-10-23 05:37:12.563930: E external/local_xla/xla/stream_executor/gpu/gpu_cudamallocasync_allocator.cc:67] 2457600, 5\n",
      "2024-10-23 05:37:12.563937: E external/local_xla/xla/stream_executor/gpu/gpu_cudamallocasync_allocator.cc:67] 24268800, 4\n",
      "2024-10-23 05:37:12.563944: E external/local_xla/xla/stream_executor/gpu/gpu_cudamallocasync_allocator.cc:67] 121344256, 1\n",
      "2024-10-23 05:37:12.563955: E external/local_xla/xla/stream_executor/gpu/gpu_cudamallocasync_allocator.cc:98] CU_MEMPOOL_ATTR_RESERVED_MEM_CURRENT: 3858759680\n",
      "2024-10-23 05:37:12.563964: E external/local_xla/xla/stream_executor/gpu/gpu_cudamallocasync_allocator.cc:100] CU_MEMPOOL_ATTR_USED_MEM_CURRENT: 255196040\n",
      "2024-10-23 05:37:12.563973: E external/local_xla/xla/stream_executor/gpu/gpu_cudamallocasync_allocator.cc:101] CU_MEMPOOL_ATTR_RESERVED_MEM_HIGH: 3992977408\n",
      "2024-10-23 05:37:12.563981: E external/local_xla/xla/stream_executor/gpu/gpu_cudamallocasync_allocator.cc:102] CU_MEMPOOL_ATTR_USED_MEM_HIGH: 409733284\n",
      "E0000 00:00:1729651032.564005    3616 dnn.cc:1173] OOM when allocating tensor with shape[154537248] and type uint8 on /job:localhost/replica:0/task:0/device:GPU:0 by allocator gpu_async_0\n",
      "2024-10-23 05:37:12.564060: W tensorflow/core/framework/op_kernel.cc:1840] OP_REQUIRES failed at cudnn_rnn_ops.cc:2182 : INTERNAL: Failed to call DoRnnBackward with model config: [rnn_mode, rnn_input_mode, rnn_direction_mode]: 2, 0, 0 , [num_layers, input_size, num_units, dir_count, max_seq_length, batch_size, cell_num_units]: [1, 128, 128, 1, 23700, 2, 128] \n",
      "2024-10-23 05:37:12.564125: I tensorflow/core/framework/local_rendezvous.cc:404] Local rendezvous is aborting with status: INTERNAL: Failed to call DoRnnBackward with model config: [rnn_mode, rnn_input_mode, rnn_direction_mode]: 2, 0, 0 , [num_layers, input_size, num_units, dir_count, max_seq_length, batch_size, cell_num_units]: [1, 128, 128, 1, 23700, 2, 128] \n",
      "\t [[{{function_node __inference_one_step_on_data_5012}}{{node gradient_tape/functional_1/lstm_1_1/CudnnRNNBackpropV3}}]]\n"
     ]
    },
    {
     "ename": "InternalError",
     "evalue": "Graph execution error:\n\nDetected at node gradient_tape/functional_1/lstm_1_1/CudnnRNNBackpropV3 defined at (most recent call last):\n  File \"<frozen runpy>\", line 198, in _run_module_as_main\n\n  File \"<frozen runpy>\", line 88, in _run_code\n\n  File \"/home/dmytrot/miniconda3/envs/rapids-24.10/lib/python3.12/site-packages/ipykernel_launcher.py\", line 18, in <module>\n\n  File \"/home/dmytrot/miniconda3/envs/rapids-24.10/lib/python3.12/site-packages/traitlets/config/application.py\", line 1075, in launch_instance\n\n  File \"/home/dmytrot/miniconda3/envs/rapids-24.10/lib/python3.12/site-packages/ipykernel/kernelapp.py\", line 739, in start\n\n  File \"/home/dmytrot/miniconda3/envs/rapids-24.10/lib/python3.12/site-packages/tornado/platform/asyncio.py\", line 205, in start\n\n  File \"/home/dmytrot/miniconda3/envs/rapids-24.10/lib/python3.12/asyncio/base_events.py\", line 641, in run_forever\n\n  File \"/home/dmytrot/miniconda3/envs/rapids-24.10/lib/python3.12/asyncio/base_events.py\", line 1986, in _run_once\n\n  File \"/home/dmytrot/miniconda3/envs/rapids-24.10/lib/python3.12/asyncio/events.py\", line 88, in _run\n\n  File \"/home/dmytrot/miniconda3/envs/rapids-24.10/lib/python3.12/site-packages/ipykernel/kernelbase.py\", line 545, in dispatch_queue\n\n  File \"/home/dmytrot/miniconda3/envs/rapids-24.10/lib/python3.12/site-packages/ipykernel/kernelbase.py\", line 534, in process_one\n\n  File \"/home/dmytrot/miniconda3/envs/rapids-24.10/lib/python3.12/site-packages/ipykernel/kernelbase.py\", line 437, in dispatch_shell\n\n  File \"/home/dmytrot/miniconda3/envs/rapids-24.10/lib/python3.12/site-packages/ipykernel/ipkernel.py\", line 362, in execute_request\n\n  File \"/home/dmytrot/miniconda3/envs/rapids-24.10/lib/python3.12/site-packages/ipykernel/kernelbase.py\", line 778, in execute_request\n\n  File \"/home/dmytrot/miniconda3/envs/rapids-24.10/lib/python3.12/site-packages/ipykernel/ipkernel.py\", line 449, in do_execute\n\n  File \"/home/dmytrot/miniconda3/envs/rapids-24.10/lib/python3.12/site-packages/ipykernel/zmqshell.py\", line 549, in run_cell\n\n  File \"/home/dmytrot/miniconda3/envs/rapids-24.10/lib/python3.12/site-packages/IPython/core/interactiveshell.py\", line 3075, in run_cell\n\n  File \"/home/dmytrot/miniconda3/envs/rapids-24.10/lib/python3.12/site-packages/IPython/core/interactiveshell.py\", line 3130, in _run_cell\n\n  File \"/home/dmytrot/miniconda3/envs/rapids-24.10/lib/python3.12/site-packages/IPython/core/async_helpers.py\", line 128, in _pseudo_sync_runner\n\n  File \"/home/dmytrot/miniconda3/envs/rapids-24.10/lib/python3.12/site-packages/IPython/core/interactiveshell.py\", line 3334, in run_cell_async\n\n  File \"/home/dmytrot/miniconda3/envs/rapids-24.10/lib/python3.12/site-packages/IPython/core/interactiveshell.py\", line 3517, in run_ast_nodes\n\n  File \"/home/dmytrot/miniconda3/envs/rapids-24.10/lib/python3.12/site-packages/IPython/core/interactiveshell.py\", line 3577, in run_code\n\n  File \"/tmp/ipykernel_3477/1042317149.py\", line 10, in <module>\n\n  File \"/home/dmytrot/miniconda3/envs/rapids-24.10/lib/python3.12/site-packages/keras/src/utils/traceback_utils.py\", line 117, in error_handler\n\n  File \"/home/dmytrot/miniconda3/envs/rapids-24.10/lib/python3.12/site-packages/keras/src/backend/tensorflow/trainer.py\", line 320, in fit\n\n  File \"/home/dmytrot/miniconda3/envs/rapids-24.10/lib/python3.12/site-packages/keras/src/backend/tensorflow/trainer.py\", line 121, in one_step_on_iterator\n\n  File \"/home/dmytrot/miniconda3/envs/rapids-24.10/lib/python3.12/site-packages/keras/src/backend/tensorflow/trainer.py\", line 108, in one_step_on_data\n\n  File \"/home/dmytrot/miniconda3/envs/rapids-24.10/lib/python3.12/site-packages/keras/src/backend/tensorflow/trainer.py\", line 70, in train_step\n\nFailed to call DoRnnBackward with model config: [rnn_mode, rnn_input_mode, rnn_direction_mode]: 2, 0, 0 , [num_layers, input_size, num_units, dir_count, max_seq_length, batch_size, cell_num_units]: [1, 128, 128, 1, 23700, 2, 128] \n\t [[{{node gradient_tape/functional_1/lstm_1_1/CudnnRNNBackpropV3}}]] [Op:__inference_one_step_on_iterator_5153]",
     "output_type": "error",
     "traceback": [
      "\u001b[0;31m---------------------------------------------------------------------------\u001b[0m",
      "\u001b[0;31mInternalError\u001b[0m                             Traceback (most recent call last)",
      "Cell \u001b[0;32mIn[23], line 10\u001b[0m\n\u001b[1;32m      2\u001b[0m gc\u001b[38;5;241m.\u001b[39mcollect()\n\u001b[1;32m      4\u001b[0m checkpoint \u001b[38;5;241m=\u001b[39m keras\u001b[38;5;241m.\u001b[39mcallbacks\u001b[38;5;241m.\u001b[39mModelCheckpoint(\n\u001b[1;32m      5\u001b[0m     monitor\u001b[38;5;241m=\u001b[39m\u001b[38;5;124m'\u001b[39m\u001b[38;5;124mval_mean_squared_error\u001b[39m\u001b[38;5;124m'\u001b[39m,\n\u001b[1;32m      6\u001b[0m     save_best_only\u001b[38;5;241m=\u001b[39m\u001b[38;5;28;01mTrue\u001b[39;00m,\n\u001b[1;32m      7\u001b[0m     filepath\u001b[38;5;241m=\u001b[39m\u001b[38;5;124m'\u001b[39m\u001b[38;5;124mlstm_both_epoch\u001b[39m\u001b[38;5;132;01m{epoch:02d}\u001b[39;00m\u001b[38;5;124m_val_\u001b[39m\u001b[38;5;132;01m{val_mean_squared_error:0.4f}\u001b[39;00m\u001b[38;5;124m.keras\u001b[39m\u001b[38;5;124m'\u001b[39m\n\u001b[1;32m      8\u001b[0m )\n\u001b[0;32m---> 10\u001b[0m history \u001b[38;5;241m=\u001b[39m model\u001b[38;5;241m.\u001b[39mfit(\n\u001b[1;32m     11\u001b[0m     x\u001b[38;5;241m=\u001b[39mtrain_generator,\n\u001b[1;32m     12\u001b[0m     epochs\u001b[38;5;241m=\u001b[39m\u001b[38;5;241m10\u001b[39m,\n\u001b[1;32m     13\u001b[0m     validation_data\u001b[38;5;241m=\u001b[39mtest_generator,\n\u001b[1;32m     14\u001b[0m     verbose\u001b[38;5;241m=\u001b[39m\u001b[38;5;241m1\u001b[39m,\n\u001b[1;32m     15\u001b[0m \tcallbacks\u001b[38;5;241m=\u001b[39m[checkpoint])\n",
      "File \u001b[0;32m~/miniconda3/envs/rapids-24.10/lib/python3.12/site-packages/keras/src/utils/traceback_utils.py:122\u001b[0m, in \u001b[0;36mfilter_traceback.<locals>.error_handler\u001b[0;34m(*args, **kwargs)\u001b[0m\n\u001b[1;32m    119\u001b[0m     filtered_tb \u001b[38;5;241m=\u001b[39m _process_traceback_frames(e\u001b[38;5;241m.\u001b[39m__traceback__)\n\u001b[1;32m    120\u001b[0m     \u001b[38;5;66;03m# To get the full stack trace, call:\u001b[39;00m\n\u001b[1;32m    121\u001b[0m     \u001b[38;5;66;03m# `keras.config.disable_traceback_filtering()`\u001b[39;00m\n\u001b[0;32m--> 122\u001b[0m     \u001b[38;5;28;01mraise\u001b[39;00m e\u001b[38;5;241m.\u001b[39mwith_traceback(filtered_tb) \u001b[38;5;28;01mfrom\u001b[39;00m \u001b[38;5;28;01mNone\u001b[39;00m\n\u001b[1;32m    123\u001b[0m \u001b[38;5;28;01mfinally\u001b[39;00m:\n\u001b[1;32m    124\u001b[0m     \u001b[38;5;28;01mdel\u001b[39;00m filtered_tb\n",
      "File \u001b[0;32m~/miniconda3/envs/rapids-24.10/lib/python3.12/site-packages/tensorflow/python/eager/execute.py:53\u001b[0m, in \u001b[0;36mquick_execute\u001b[0;34m(op_name, num_outputs, inputs, attrs, ctx, name)\u001b[0m\n\u001b[1;32m     51\u001b[0m \u001b[38;5;28;01mtry\u001b[39;00m:\n\u001b[1;32m     52\u001b[0m   ctx\u001b[38;5;241m.\u001b[39mensure_initialized()\n\u001b[0;32m---> 53\u001b[0m   tensors \u001b[38;5;241m=\u001b[39m pywrap_tfe\u001b[38;5;241m.\u001b[39mTFE_Py_Execute(ctx\u001b[38;5;241m.\u001b[39m_handle, device_name, op_name,\n\u001b[1;32m     54\u001b[0m                                       inputs, attrs, num_outputs)\n\u001b[1;32m     55\u001b[0m \u001b[38;5;28;01mexcept\u001b[39;00m core\u001b[38;5;241m.\u001b[39m_NotOkStatusException \u001b[38;5;28;01mas\u001b[39;00m e:\n\u001b[1;32m     56\u001b[0m   \u001b[38;5;28;01mif\u001b[39;00m name \u001b[38;5;129;01mis\u001b[39;00m \u001b[38;5;129;01mnot\u001b[39;00m \u001b[38;5;28;01mNone\u001b[39;00m:\n",
      "\u001b[0;31mInternalError\u001b[0m: Graph execution error:\n\nDetected at node gradient_tape/functional_1/lstm_1_1/CudnnRNNBackpropV3 defined at (most recent call last):\n  File \"<frozen runpy>\", line 198, in _run_module_as_main\n\n  File \"<frozen runpy>\", line 88, in _run_code\n\n  File \"/home/dmytrot/miniconda3/envs/rapids-24.10/lib/python3.12/site-packages/ipykernel_launcher.py\", line 18, in <module>\n\n  File \"/home/dmytrot/miniconda3/envs/rapids-24.10/lib/python3.12/site-packages/traitlets/config/application.py\", line 1075, in launch_instance\n\n  File \"/home/dmytrot/miniconda3/envs/rapids-24.10/lib/python3.12/site-packages/ipykernel/kernelapp.py\", line 739, in start\n\n  File \"/home/dmytrot/miniconda3/envs/rapids-24.10/lib/python3.12/site-packages/tornado/platform/asyncio.py\", line 205, in start\n\n  File \"/home/dmytrot/miniconda3/envs/rapids-24.10/lib/python3.12/asyncio/base_events.py\", line 641, in run_forever\n\n  File \"/home/dmytrot/miniconda3/envs/rapids-24.10/lib/python3.12/asyncio/base_events.py\", line 1986, in _run_once\n\n  File \"/home/dmytrot/miniconda3/envs/rapids-24.10/lib/python3.12/asyncio/events.py\", line 88, in _run\n\n  File \"/home/dmytrot/miniconda3/envs/rapids-24.10/lib/python3.12/site-packages/ipykernel/kernelbase.py\", line 545, in dispatch_queue\n\n  File \"/home/dmytrot/miniconda3/envs/rapids-24.10/lib/python3.12/site-packages/ipykernel/kernelbase.py\", line 534, in process_one\n\n  File \"/home/dmytrot/miniconda3/envs/rapids-24.10/lib/python3.12/site-packages/ipykernel/kernelbase.py\", line 437, in dispatch_shell\n\n  File \"/home/dmytrot/miniconda3/envs/rapids-24.10/lib/python3.12/site-packages/ipykernel/ipkernel.py\", line 362, in execute_request\n\n  File \"/home/dmytrot/miniconda3/envs/rapids-24.10/lib/python3.12/site-packages/ipykernel/kernelbase.py\", line 778, in execute_request\n\n  File \"/home/dmytrot/miniconda3/envs/rapids-24.10/lib/python3.12/site-packages/ipykernel/ipkernel.py\", line 449, in do_execute\n\n  File \"/home/dmytrot/miniconda3/envs/rapids-24.10/lib/python3.12/site-packages/ipykernel/zmqshell.py\", line 549, in run_cell\n\n  File \"/home/dmytrot/miniconda3/envs/rapids-24.10/lib/python3.12/site-packages/IPython/core/interactiveshell.py\", line 3075, in run_cell\n\n  File \"/home/dmytrot/miniconda3/envs/rapids-24.10/lib/python3.12/site-packages/IPython/core/interactiveshell.py\", line 3130, in _run_cell\n\n  File \"/home/dmytrot/miniconda3/envs/rapids-24.10/lib/python3.12/site-packages/IPython/core/async_helpers.py\", line 128, in _pseudo_sync_runner\n\n  File \"/home/dmytrot/miniconda3/envs/rapids-24.10/lib/python3.12/site-packages/IPython/core/interactiveshell.py\", line 3334, in run_cell_async\n\n  File \"/home/dmytrot/miniconda3/envs/rapids-24.10/lib/python3.12/site-packages/IPython/core/interactiveshell.py\", line 3517, in run_ast_nodes\n\n  File \"/home/dmytrot/miniconda3/envs/rapids-24.10/lib/python3.12/site-packages/IPython/core/interactiveshell.py\", line 3577, in run_code\n\n  File \"/tmp/ipykernel_3477/1042317149.py\", line 10, in <module>\n\n  File \"/home/dmytrot/miniconda3/envs/rapids-24.10/lib/python3.12/site-packages/keras/src/utils/traceback_utils.py\", line 117, in error_handler\n\n  File \"/home/dmytrot/miniconda3/envs/rapids-24.10/lib/python3.12/site-packages/keras/src/backend/tensorflow/trainer.py\", line 320, in fit\n\n  File \"/home/dmytrot/miniconda3/envs/rapids-24.10/lib/python3.12/site-packages/keras/src/backend/tensorflow/trainer.py\", line 121, in one_step_on_iterator\n\n  File \"/home/dmytrot/miniconda3/envs/rapids-24.10/lib/python3.12/site-packages/keras/src/backend/tensorflow/trainer.py\", line 108, in one_step_on_data\n\n  File \"/home/dmytrot/miniconda3/envs/rapids-24.10/lib/python3.12/site-packages/keras/src/backend/tensorflow/trainer.py\", line 70, in train_step\n\nFailed to call DoRnnBackward with model config: [rnn_mode, rnn_input_mode, rnn_direction_mode]: 2, 0, 0 , [num_layers, input_size, num_units, dir_count, max_seq_length, batch_size, cell_num_units]: [1, 128, 128, 1, 23700, 2, 128] \n\t [[{{node gradient_tape/functional_1/lstm_1_1/CudnnRNNBackpropV3}}]] [Op:__inference_one_step_on_iterator_5153]"
     ]
    }
   ],
   "source": [
    "keras.backend.clear_session()\n",
    "gc.collect()\n",
    "\n",
    "checkpoint = keras.callbacks.ModelCheckpoint(\n",
    "    monitor='val_mean_squared_error',\n",
    "    save_best_only=True,\n",
    "    filepath='lstm_both_epoch{epoch:02d}_val_{val_mean_squared_error:0.4f}.keras'\n",
    ")\n",
    "\n",
    "history = model.fit(\n",
    "    x=train_generator,\n",
    "    epochs=10,\n",
    "    validation_data=test_generator,\n",
    "    verbose=1,\n",
    "\tcallbacks=[checkpoint])"
   ]
  },
  {
   "cell_type": "code",
   "execution_count": null,
   "metadata": {},
   "outputs": [],
   "source": []
  }
 ],
 "metadata": {
  "kernelspec": {
   "display_name": "rapids-24.10",
   "language": "python",
   "name": "python3"
  },
  "language_info": {
   "codemirror_mode": {
    "name": "ipython",
    "version": 3
   },
   "file_extension": ".py",
   "mimetype": "text/x-python",
   "name": "python",
   "nbconvert_exporter": "python",
   "pygments_lexer": "ipython3",
   "version": "3.12.7"
  }
 },
 "nbformat": 4,
 "nbformat_minor": 2
}
