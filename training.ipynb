{
 "cells": [
  {
   "cell_type": "code",
   "execution_count": 2,
   "metadata": {},
   "outputs": [],
   "source": [
    "import re\n",
    "\n",
    "import pandas as pd\n",
    "import numpy as np\n",
    "from tqdm import tqdm\n",
    "\n",
    "import keras\n",
    "from keras import losses, metrics, layers, ops"
   ]
  },
  {
   "cell_type": "code",
   "execution_count": 3,
   "metadata": {},
   "outputs": [],
   "source": [
    "train_df = pd.read_csv('data/train.csv')"
   ]
  },
  {
   "cell_type": "code",
   "execution_count": 4,
   "metadata": {},
   "outputs": [],
   "source": [
    "train_set_df = train_df[['agent1', 'agent2', 'EnglishRules', 'LudRules']]"
   ]
  },
  {
   "cell_type": "code",
   "execution_count": 26,
   "metadata": {},
   "outputs": [
    {
     "name": "stderr",
     "output_type": "stream",
     "text": [
      "100%|██████████| 1328/1328 [00:06<00:00, 215.91it/s]"
     ]
    },
    {
     "name": "stdout",
     "output_type": "stream",
     "text": [
      "858\n"
     ]
    },
    {
     "name": "stderr",
     "output_type": "stream",
     "text": [
      "\n"
     ]
    }
   ],
   "source": [
    "lud_preprocessor = layers.TextVectorization(\n",
    "    vocabulary='ludii_tokens.dic',\n",
    "    standardize='strip_punctuation'\n",
    ")\n",
    "\n",
    "eng_preprocessor = layers.TextVectorization(\n",
    "    vocabulary='eng_tokens.dic'\n",
    ")\n",
    "\n",
    "max_eng = 0\n",
    "max_lud = 0\n",
    "\n",
    "eng_uniques = train_set_df['EnglishRules'].unique()\n",
    "\n",
    "for engrul in tqdm(eng_uniques):\n",
    "    eng_vector = eng_preprocessor(engrul)\n",
    "    max_eng = max(max_eng, eng_vector.shape[0])\n",
    "\n",
    "print(max_eng)\n"
   ]
  },
  {
   "cell_type": "code",
   "execution_count": 23,
   "metadata": {},
   "outputs": [
    {
     "name": "stdout",
     "output_type": "stream",
     "text": [
      "23613\n"
     ]
    }
   ],
   "source": [
    "lud_uniques = train_set_df['LudRules'].unique()\n",
    "\n",
    "EQPMNT_RE = r'\\(equipment'\n",
    "RULESTRIP_RE = r'[^a-zA-Z\\(\\)\\{\\}]'\n",
    "\n",
    "for rule in lud_uniques:\n",
    "    start = re.search(EQPMNT_RE, rule).span()[0]\n",
    "    pure_rule = rule[start:]\n",
    "    pure_rule = re.sub(RULESTRIP_RE, ' ', pure_rule)\n",
    "    lud_vector = lud_preprocessor(pure_rule)\n",
    "    max_lud = max(max_lud, lud_vector.shape[0])\n",
    "\n",
    "print(max_lud)"
   ]
  },
  {
   "cell_type": "code",
   "execution_count": 30,
   "metadata": {},
   "outputs": [
    {
     "name": "stdout",
     "output_type": "stream",
     "text": [
      "{0: 'MCTS-ProgressiveHistory-0.1-MAST-false', 1: 'MCTS-ProgressiveHistory-0.1-MAST-true', 2: 'MCTS-ProgressiveHistory-0.1-NST-false', 3: 'MCTS-ProgressiveHistory-0.1-NST-true', 4: 'MCTS-ProgressiveHistory-0.1-Random200-false', 5: 'MCTS-ProgressiveHistory-0.1-Random200-true', 6: 'MCTS-ProgressiveHistory-0.6-MAST-false', 7: 'MCTS-ProgressiveHistory-0.6-MAST-true', 8: 'MCTS-ProgressiveHistory-0.6-NST-false', 9: 'MCTS-ProgressiveHistory-0.6-NST-true', 10: 'MCTS-ProgressiveHistory-0.6-Random200-false', 11: 'MCTS-ProgressiveHistory-0.6-Random200-true', 12: 'MCTS-ProgressiveHistory-1.41421356237-MAST-false', 13: 'MCTS-ProgressiveHistory-1.41421356237-MAST-true', 14: 'MCTS-ProgressiveHistory-1.41421356237-NST-false', 15: 'MCTS-ProgressiveHistory-1.41421356237-NST-true', 16: 'MCTS-ProgressiveHistory-1.41421356237-Random200-false', 17: 'MCTS-ProgressiveHistory-1.41421356237-Random200-true', 18: 'MCTS-UCB1-0.1-MAST-false', 19: 'MCTS-UCB1-0.1-MAST-true', 20: 'MCTS-UCB1-0.1-NST-false', 21: 'MCTS-UCB1-0.1-NST-true', 22: 'MCTS-UCB1-0.1-Random200-false', 23: 'MCTS-UCB1-0.1-Random200-true', 24: 'MCTS-UCB1-0.6-MAST-false', 25: 'MCTS-UCB1-0.6-MAST-true', 26: 'MCTS-UCB1-0.6-NST-false', 27: 'MCTS-UCB1-0.6-NST-true', 28: 'MCTS-UCB1-0.6-Random200-false', 29: 'MCTS-UCB1-0.6-Random200-true', 30: 'MCTS-UCB1-1.41421356237-MAST-false', 31: 'MCTS-UCB1-1.41421356237-MAST-true', 32: 'MCTS-UCB1-1.41421356237-NST-false', 33: 'MCTS-UCB1-1.41421356237-NST-true', 34: 'MCTS-UCB1-1.41421356237-Random200-false', 35: 'MCTS-UCB1-1.41421356237-Random200-true', 36: 'MCTS-UCB1GRAVE-0.1-MAST-false', 37: 'MCTS-UCB1GRAVE-0.1-MAST-true', 38: 'MCTS-UCB1GRAVE-0.1-NST-false', 39: 'MCTS-UCB1GRAVE-0.1-NST-true', 40: 'MCTS-UCB1GRAVE-0.1-Random200-false', 41: 'MCTS-UCB1GRAVE-0.1-Random200-true', 42: 'MCTS-UCB1GRAVE-0.6-MAST-false', 43: 'MCTS-UCB1GRAVE-0.6-MAST-true', 44: 'MCTS-UCB1GRAVE-0.6-NST-false', 45: 'MCTS-UCB1GRAVE-0.6-NST-true', 46: 'MCTS-UCB1GRAVE-0.6-Random200-false', 47: 'MCTS-UCB1GRAVE-0.6-Random200-true', 48: 'MCTS-UCB1GRAVE-1.41421356237-MAST-false', 49: 'MCTS-UCB1GRAVE-1.41421356237-MAST-true', 50: 'MCTS-UCB1GRAVE-1.41421356237-NST-false', 51: 'MCTS-UCB1GRAVE-1.41421356237-NST-true', 52: 'MCTS-UCB1GRAVE-1.41421356237-Random200-false', 53: 'MCTS-UCB1GRAVE-1.41421356237-Random200-true', 54: 'MCTS-UCB1Tuned-0.1-MAST-false', 55: 'MCTS-UCB1Tuned-0.1-MAST-true', 56: 'MCTS-UCB1Tuned-0.1-NST-false', 57: 'MCTS-UCB1Tuned-0.1-NST-true', 58: 'MCTS-UCB1Tuned-0.1-Random200-false', 59: 'MCTS-UCB1Tuned-0.1-Random200-true', 60: 'MCTS-UCB1Tuned-0.6-MAST-false', 61: 'MCTS-UCB1Tuned-0.6-MAST-true', 62: 'MCTS-UCB1Tuned-0.6-NST-false', 63: 'MCTS-UCB1Tuned-0.6-NST-true', 64: 'MCTS-UCB1Tuned-0.6-Random200-false', 65: 'MCTS-UCB1Tuned-0.6-Random200-true', 66: 'MCTS-UCB1Tuned-1.41421356237-MAST-false', 67: 'MCTS-UCB1Tuned-1.41421356237-MAST-true', 68: 'MCTS-UCB1Tuned-1.41421356237-NST-false', 69: 'MCTS-UCB1Tuned-1.41421356237-NST-true', 70: 'MCTS-UCB1Tuned-1.41421356237-Random200-false', 71: 'MCTS-UCB1Tuned-1.41421356237-Random200-true'}\n",
      "{'MCTS-ProgressiveHistory-0.1-MAST-false': 0, 'MCTS-ProgressiveHistory-0.1-MAST-true': 1, 'MCTS-ProgressiveHistory-0.1-NST-false': 2, 'MCTS-ProgressiveHistory-0.1-NST-true': 3, 'MCTS-ProgressiveHistory-0.1-Random200-false': 4, 'MCTS-ProgressiveHistory-0.1-Random200-true': 5, 'MCTS-ProgressiveHistory-0.6-MAST-false': 6, 'MCTS-ProgressiveHistory-0.6-MAST-true': 7, 'MCTS-ProgressiveHistory-0.6-NST-false': 8, 'MCTS-ProgressiveHistory-0.6-NST-true': 9, 'MCTS-ProgressiveHistory-0.6-Random200-false': 10, 'MCTS-ProgressiveHistory-0.6-Random200-true': 11, 'MCTS-ProgressiveHistory-1.41421356237-MAST-false': 12, 'MCTS-ProgressiveHistory-1.41421356237-MAST-true': 13, 'MCTS-ProgressiveHistory-1.41421356237-NST-false': 14, 'MCTS-ProgressiveHistory-1.41421356237-NST-true': 15, 'MCTS-ProgressiveHistory-1.41421356237-Random200-false': 16, 'MCTS-ProgressiveHistory-1.41421356237-Random200-true': 17, 'MCTS-UCB1-0.1-MAST-false': 18, 'MCTS-UCB1-0.1-MAST-true': 19, 'MCTS-UCB1-0.1-NST-false': 20, 'MCTS-UCB1-0.1-NST-true': 21, 'MCTS-UCB1-0.1-Random200-false': 22, 'MCTS-UCB1-0.1-Random200-true': 23, 'MCTS-UCB1-0.6-MAST-false': 24, 'MCTS-UCB1-0.6-MAST-true': 25, 'MCTS-UCB1-0.6-NST-false': 26, 'MCTS-UCB1-0.6-NST-true': 27, 'MCTS-UCB1-0.6-Random200-false': 28, 'MCTS-UCB1-0.6-Random200-true': 29, 'MCTS-UCB1-1.41421356237-MAST-false': 30, 'MCTS-UCB1-1.41421356237-MAST-true': 31, 'MCTS-UCB1-1.41421356237-NST-false': 32, 'MCTS-UCB1-1.41421356237-NST-true': 33, 'MCTS-UCB1-1.41421356237-Random200-false': 34, 'MCTS-UCB1-1.41421356237-Random200-true': 35, 'MCTS-UCB1GRAVE-0.1-MAST-false': 36, 'MCTS-UCB1GRAVE-0.1-MAST-true': 37, 'MCTS-UCB1GRAVE-0.1-NST-false': 38, 'MCTS-UCB1GRAVE-0.1-NST-true': 39, 'MCTS-UCB1GRAVE-0.1-Random200-false': 40, 'MCTS-UCB1GRAVE-0.1-Random200-true': 41, 'MCTS-UCB1GRAVE-0.6-MAST-false': 42, 'MCTS-UCB1GRAVE-0.6-MAST-true': 43, 'MCTS-UCB1GRAVE-0.6-NST-false': 44, 'MCTS-UCB1GRAVE-0.6-NST-true': 45, 'MCTS-UCB1GRAVE-0.6-Random200-false': 46, 'MCTS-UCB1GRAVE-0.6-Random200-true': 47, 'MCTS-UCB1GRAVE-1.41421356237-MAST-false': 48, 'MCTS-UCB1GRAVE-1.41421356237-MAST-true': 49, 'MCTS-UCB1GRAVE-1.41421356237-NST-false': 50, 'MCTS-UCB1GRAVE-1.41421356237-NST-true': 51, 'MCTS-UCB1GRAVE-1.41421356237-Random200-false': 52, 'MCTS-UCB1GRAVE-1.41421356237-Random200-true': 53, 'MCTS-UCB1Tuned-0.1-MAST-false': 54, 'MCTS-UCB1Tuned-0.1-MAST-true': 55, 'MCTS-UCB1Tuned-0.1-NST-false': 56, 'MCTS-UCB1Tuned-0.1-NST-true': 57, 'MCTS-UCB1Tuned-0.1-Random200-false': 58, 'MCTS-UCB1Tuned-0.1-Random200-true': 59, 'MCTS-UCB1Tuned-0.6-MAST-false': 60, 'MCTS-UCB1Tuned-0.6-MAST-true': 61, 'MCTS-UCB1Tuned-0.6-NST-false': 62, 'MCTS-UCB1Tuned-0.6-NST-true': 63, 'MCTS-UCB1Tuned-0.6-Random200-false': 64, 'MCTS-UCB1Tuned-0.6-Random200-true': 65, 'MCTS-UCB1Tuned-1.41421356237-MAST-false': 66, 'MCTS-UCB1Tuned-1.41421356237-MAST-true': 67, 'MCTS-UCB1Tuned-1.41421356237-NST-false': 68, 'MCTS-UCB1Tuned-1.41421356237-NST-true': 69, 'MCTS-UCB1Tuned-1.41421356237-Random200-false': 70, 'MCTS-UCB1Tuned-1.41421356237-Random200-true': 71}\n",
      "72\n"
     ]
    }
   ],
   "source": [
    "agent1_uniques = train_set_df['agent1'].unique()\n",
    "agent2_uniques = train_set_df['agent2'].unique()\n",
    "\n",
    "set(agent1_uniques) >= set(agent2_uniques)\n",
    "\n",
    "code_agent = {}\n",
    "agent_code = {}\n",
    "\n",
    "for id, agent in enumerate(agent1_uniques):\n",
    "    code_agent[id] = agent\n",
    "    agent_code[agent] = id\n"
   ]
  },
  {
   "cell_type": "markdown",
   "metadata": {},
   "source": [
    "eng_vector.shape=(900,)\n",
    "\n",
    "lud_vector.shape=(23700,)\n",
    "\n",
    "agents_to_categorical.shape=(144)"
   ]
  },
  {
   "cell_type": "code",
   "execution_count": 31,
   "metadata": {},
   "outputs": [],
   "source": [
    "agents_len = 144\n",
    "engvector_len = 900\n",
    "ludvector_len = 23700"
   ]
  },
  {
   "cell_type": "code",
   "execution_count": 43,
   "metadata": {},
   "outputs": [],
   "source": [
    "# 900+23700+144 = 24744\n",
    "# defining input shape and input data distribution\n",
    "\n",
    "enter = layers.Input(shape=(24744,))\n",
    "agent_input = ops.slice(enter, (0,), (agents_len,))\n",
    "engrul_input = ops.slice(enter, (agents_len,), (engvector_len,))\n",
    "ludrul_input = ops.slice(enter, (agents_len+engvector_len,), (ludvector_len,))"
   ]
  },
  {
   "cell_type": "code",
   "execution_count": null,
   "metadata": {},
   "outputs": [],
   "source": []
  }
 ],
 "metadata": {
  "kernelspec": {
   "display_name": "ds_atwork",
   "language": "python",
   "name": "python3"
  },
  "language_info": {
   "codemirror_mode": {
    "name": "ipython",
    "version": 3
   },
   "file_extension": ".py",
   "mimetype": "text/x-python",
   "name": "python",
   "nbconvert_exporter": "python",
   "pygments_lexer": "ipython3",
   "version": "3.12.5"
  }
 },
 "nbformat": 4,
 "nbformat_minor": 2
}
