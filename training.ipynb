{
 "cells": [
  {
   "cell_type": "code",
   "execution_count": 3,
   "metadata": {},
   "outputs": [],
   "source": [
    "import re\n",
    "\n",
    "import pandas as pd\n",
    "import numpy as np\n",
    "from tqdm import tqdm\n",
    "\n",
    "import keras\n",
    "from keras import losses, metrics, layers, ops"
   ]
  },
  {
   "cell_type": "code",
   "execution_count": 4,
   "metadata": {},
   "outputs": [
    {
     "ename": "MemoryError",
     "evalue": "Unable to allocate 1.06 GiB for an array with shape (608, 233234) and data type int64",
     "output_type": "error",
     "traceback": [
      "\u001b[1;31m---------------------------------------------------------------------------\u001b[0m",
      "\u001b[1;31mMemoryError\u001b[0m                               Traceback (most recent call last)",
      "Cell \u001b[1;32mIn[4], line 1\u001b[0m\n\u001b[1;32m----> 1\u001b[0m train_df \u001b[38;5;241m=\u001b[39m \u001b[43mpd\u001b[49m\u001b[38;5;241;43m.\u001b[39;49m\u001b[43mread_csv\u001b[49m\u001b[43m(\u001b[49m\u001b[38;5;124;43m'\u001b[39;49m\u001b[38;5;124;43mdata/train.csv\u001b[39;49m\u001b[38;5;124;43m'\u001b[39;49m\u001b[43m)\u001b[49m\n",
      "File \u001b[1;32md:\\miniconda3\\envs\\ds_atwork\\Lib\\site-packages\\pandas\\io\\parsers\\readers.py:1026\u001b[0m, in \u001b[0;36mread_csv\u001b[1;34m(filepath_or_buffer, sep, delimiter, header, names, index_col, usecols, dtype, engine, converters, true_values, false_values, skipinitialspace, skiprows, skipfooter, nrows, na_values, keep_default_na, na_filter, verbose, skip_blank_lines, parse_dates, infer_datetime_format, keep_date_col, date_parser, date_format, dayfirst, cache_dates, iterator, chunksize, compression, thousands, decimal, lineterminator, quotechar, quoting, doublequote, escapechar, comment, encoding, encoding_errors, dialect, on_bad_lines, delim_whitespace, low_memory, memory_map, float_precision, storage_options, dtype_backend)\u001b[0m\n\u001b[0;32m   1013\u001b[0m kwds_defaults \u001b[38;5;241m=\u001b[39m _refine_defaults_read(\n\u001b[0;32m   1014\u001b[0m     dialect,\n\u001b[0;32m   1015\u001b[0m     delimiter,\n\u001b[1;32m   (...)\u001b[0m\n\u001b[0;32m   1022\u001b[0m     dtype_backend\u001b[38;5;241m=\u001b[39mdtype_backend,\n\u001b[0;32m   1023\u001b[0m )\n\u001b[0;32m   1024\u001b[0m kwds\u001b[38;5;241m.\u001b[39mupdate(kwds_defaults)\n\u001b[1;32m-> 1026\u001b[0m \u001b[38;5;28;01mreturn\u001b[39;00m \u001b[43m_read\u001b[49m\u001b[43m(\u001b[49m\u001b[43mfilepath_or_buffer\u001b[49m\u001b[43m,\u001b[49m\u001b[43m \u001b[49m\u001b[43mkwds\u001b[49m\u001b[43m)\u001b[49m\n",
      "File \u001b[1;32md:\\miniconda3\\envs\\ds_atwork\\Lib\\site-packages\\pandas\\io\\parsers\\readers.py:626\u001b[0m, in \u001b[0;36m_read\u001b[1;34m(filepath_or_buffer, kwds)\u001b[0m\n\u001b[0;32m    623\u001b[0m     \u001b[38;5;28;01mreturn\u001b[39;00m parser\n\u001b[0;32m    625\u001b[0m \u001b[38;5;28;01mwith\u001b[39;00m parser:\n\u001b[1;32m--> 626\u001b[0m     \u001b[38;5;28;01mreturn\u001b[39;00m \u001b[43mparser\u001b[49m\u001b[38;5;241;43m.\u001b[39;49m\u001b[43mread\u001b[49m\u001b[43m(\u001b[49m\u001b[43mnrows\u001b[49m\u001b[43m)\u001b[49m\n",
      "File \u001b[1;32md:\\miniconda3\\envs\\ds_atwork\\Lib\\site-packages\\pandas\\io\\parsers\\readers.py:1968\u001b[0m, in \u001b[0;36mTextFileReader.read\u001b[1;34m(self, nrows)\u001b[0m\n\u001b[0;32m   1965\u001b[0m     \u001b[38;5;28;01melse\u001b[39;00m:\n\u001b[0;32m   1966\u001b[0m         new_col_dict \u001b[38;5;241m=\u001b[39m col_dict\n\u001b[1;32m-> 1968\u001b[0m     df \u001b[38;5;241m=\u001b[39m \u001b[43mDataFrame\u001b[49m\u001b[43m(\u001b[49m\n\u001b[0;32m   1969\u001b[0m \u001b[43m        \u001b[49m\u001b[43mnew_col_dict\u001b[49m\u001b[43m,\u001b[49m\n\u001b[0;32m   1970\u001b[0m \u001b[43m        \u001b[49m\u001b[43mcolumns\u001b[49m\u001b[38;5;241;43m=\u001b[39;49m\u001b[43mcolumns\u001b[49m\u001b[43m,\u001b[49m\n\u001b[0;32m   1971\u001b[0m \u001b[43m        \u001b[49m\u001b[43mindex\u001b[49m\u001b[38;5;241;43m=\u001b[39;49m\u001b[43mindex\u001b[49m\u001b[43m,\u001b[49m\n\u001b[0;32m   1972\u001b[0m \u001b[43m        \u001b[49m\u001b[43mcopy\u001b[49m\u001b[38;5;241;43m=\u001b[39;49m\u001b[38;5;129;43;01mnot\u001b[39;49;00m\u001b[43m \u001b[49m\u001b[43musing_copy_on_write\u001b[49m\u001b[43m(\u001b[49m\u001b[43m)\u001b[49m\u001b[43m,\u001b[49m\n\u001b[0;32m   1973\u001b[0m \u001b[43m    \u001b[49m\u001b[43m)\u001b[49m\n\u001b[0;32m   1975\u001b[0m     \u001b[38;5;28mself\u001b[39m\u001b[38;5;241m.\u001b[39m_currow \u001b[38;5;241m+\u001b[39m\u001b[38;5;241m=\u001b[39m new_rows\n\u001b[0;32m   1976\u001b[0m \u001b[38;5;28;01mreturn\u001b[39;00m df\n",
      "File \u001b[1;32md:\\miniconda3\\envs\\ds_atwork\\Lib\\site-packages\\pandas\\core\\frame.py:778\u001b[0m, in \u001b[0;36mDataFrame.__init__\u001b[1;34m(self, data, index, columns, dtype, copy)\u001b[0m\n\u001b[0;32m    772\u001b[0m     mgr \u001b[38;5;241m=\u001b[39m \u001b[38;5;28mself\u001b[39m\u001b[38;5;241m.\u001b[39m_init_mgr(\n\u001b[0;32m    773\u001b[0m         data, axes\u001b[38;5;241m=\u001b[39m{\u001b[38;5;124m\"\u001b[39m\u001b[38;5;124mindex\u001b[39m\u001b[38;5;124m\"\u001b[39m: index, \u001b[38;5;124m\"\u001b[39m\u001b[38;5;124mcolumns\u001b[39m\u001b[38;5;124m\"\u001b[39m: columns}, dtype\u001b[38;5;241m=\u001b[39mdtype, copy\u001b[38;5;241m=\u001b[39mcopy\n\u001b[0;32m    774\u001b[0m     )\n\u001b[0;32m    776\u001b[0m \u001b[38;5;28;01melif\u001b[39;00m \u001b[38;5;28misinstance\u001b[39m(data, \u001b[38;5;28mdict\u001b[39m):\n\u001b[0;32m    777\u001b[0m     \u001b[38;5;66;03m# GH#38939 de facto copy defaults to False only in non-dict cases\u001b[39;00m\n\u001b[1;32m--> 778\u001b[0m     mgr \u001b[38;5;241m=\u001b[39m \u001b[43mdict_to_mgr\u001b[49m\u001b[43m(\u001b[49m\u001b[43mdata\u001b[49m\u001b[43m,\u001b[49m\u001b[43m \u001b[49m\u001b[43mindex\u001b[49m\u001b[43m,\u001b[49m\u001b[43m \u001b[49m\u001b[43mcolumns\u001b[49m\u001b[43m,\u001b[49m\u001b[43m \u001b[49m\u001b[43mdtype\u001b[49m\u001b[38;5;241;43m=\u001b[39;49m\u001b[43mdtype\u001b[49m\u001b[43m,\u001b[49m\u001b[43m \u001b[49m\u001b[43mcopy\u001b[49m\u001b[38;5;241;43m=\u001b[39;49m\u001b[43mcopy\u001b[49m\u001b[43m,\u001b[49m\u001b[43m \u001b[49m\u001b[43mtyp\u001b[49m\u001b[38;5;241;43m=\u001b[39;49m\u001b[43mmanager\u001b[49m\u001b[43m)\u001b[49m\n\u001b[0;32m    779\u001b[0m \u001b[38;5;28;01melif\u001b[39;00m \u001b[38;5;28misinstance\u001b[39m(data, ma\u001b[38;5;241m.\u001b[39mMaskedArray):\n\u001b[0;32m    780\u001b[0m     \u001b[38;5;28;01mfrom\u001b[39;00m \u001b[38;5;21;01mnumpy\u001b[39;00m\u001b[38;5;21;01m.\u001b[39;00m\u001b[38;5;21;01mma\u001b[39;00m \u001b[38;5;28;01mimport\u001b[39;00m mrecords\n",
      "File \u001b[1;32md:\\miniconda3\\envs\\ds_atwork\\Lib\\site-packages\\pandas\\core\\internals\\construction.py:503\u001b[0m, in \u001b[0;36mdict_to_mgr\u001b[1;34m(data, index, columns, dtype, typ, copy)\u001b[0m\n\u001b[0;32m    499\u001b[0m     \u001b[38;5;28;01melse\u001b[39;00m:\n\u001b[0;32m    500\u001b[0m         \u001b[38;5;66;03m# dtype check to exclude e.g. range objects, scalars\u001b[39;00m\n\u001b[0;32m    501\u001b[0m         arrays \u001b[38;5;241m=\u001b[39m [x\u001b[38;5;241m.\u001b[39mcopy() \u001b[38;5;28;01mif\u001b[39;00m \u001b[38;5;28mhasattr\u001b[39m(x, \u001b[38;5;124m\"\u001b[39m\u001b[38;5;124mdtype\u001b[39m\u001b[38;5;124m\"\u001b[39m) \u001b[38;5;28;01melse\u001b[39;00m x \u001b[38;5;28;01mfor\u001b[39;00m x \u001b[38;5;129;01min\u001b[39;00m arrays]\n\u001b[1;32m--> 503\u001b[0m \u001b[38;5;28;01mreturn\u001b[39;00m \u001b[43marrays_to_mgr\u001b[49m\u001b[43m(\u001b[49m\u001b[43marrays\u001b[49m\u001b[43m,\u001b[49m\u001b[43m \u001b[49m\u001b[43mcolumns\u001b[49m\u001b[43m,\u001b[49m\u001b[43m \u001b[49m\u001b[43mindex\u001b[49m\u001b[43m,\u001b[49m\u001b[43m \u001b[49m\u001b[43mdtype\u001b[49m\u001b[38;5;241;43m=\u001b[39;49m\u001b[43mdtype\u001b[49m\u001b[43m,\u001b[49m\u001b[43m \u001b[49m\u001b[43mtyp\u001b[49m\u001b[38;5;241;43m=\u001b[39;49m\u001b[43mtyp\u001b[49m\u001b[43m,\u001b[49m\u001b[43m \u001b[49m\u001b[43mconsolidate\u001b[49m\u001b[38;5;241;43m=\u001b[39;49m\u001b[43mcopy\u001b[49m\u001b[43m)\u001b[49m\n",
      "File \u001b[1;32md:\\miniconda3\\envs\\ds_atwork\\Lib\\site-packages\\pandas\\core\\internals\\construction.py:152\u001b[0m, in \u001b[0;36marrays_to_mgr\u001b[1;34m(arrays, columns, index, dtype, verify_integrity, typ, consolidate)\u001b[0m\n\u001b[0;32m    149\u001b[0m axes \u001b[38;5;241m=\u001b[39m [columns, index]\n\u001b[0;32m    151\u001b[0m \u001b[38;5;28;01mif\u001b[39;00m typ \u001b[38;5;241m==\u001b[39m \u001b[38;5;124m\"\u001b[39m\u001b[38;5;124mblock\u001b[39m\u001b[38;5;124m\"\u001b[39m:\n\u001b[1;32m--> 152\u001b[0m     \u001b[38;5;28;01mreturn\u001b[39;00m \u001b[43mcreate_block_manager_from_column_arrays\u001b[49m\u001b[43m(\u001b[49m\n\u001b[0;32m    153\u001b[0m \u001b[43m        \u001b[49m\u001b[43marrays\u001b[49m\u001b[43m,\u001b[49m\u001b[43m \u001b[49m\u001b[43maxes\u001b[49m\u001b[43m,\u001b[49m\u001b[43m \u001b[49m\u001b[43mconsolidate\u001b[49m\u001b[38;5;241;43m=\u001b[39;49m\u001b[43mconsolidate\u001b[49m\u001b[43m,\u001b[49m\u001b[43m \u001b[49m\u001b[43mrefs\u001b[49m\u001b[38;5;241;43m=\u001b[39;49m\u001b[43mrefs\u001b[49m\n\u001b[0;32m    154\u001b[0m \u001b[43m    \u001b[49m\u001b[43m)\u001b[49m\n\u001b[0;32m    155\u001b[0m \u001b[38;5;28;01melif\u001b[39;00m typ \u001b[38;5;241m==\u001b[39m \u001b[38;5;124m\"\u001b[39m\u001b[38;5;124marray\u001b[39m\u001b[38;5;124m\"\u001b[39m:\n\u001b[0;32m    156\u001b[0m     \u001b[38;5;28;01mreturn\u001b[39;00m ArrayManager(arrays, [index, columns])\n",
      "File \u001b[1;32md:\\miniconda3\\envs\\ds_atwork\\Lib\\site-packages\\pandas\\core\\internals\\managers.py:2144\u001b[0m, in \u001b[0;36mcreate_block_manager_from_column_arrays\u001b[1;34m(arrays, axes, consolidate, refs)\u001b[0m\n\u001b[0;32m   2142\u001b[0m     raise_construction_error(\u001b[38;5;28mlen\u001b[39m(arrays), arrays[\u001b[38;5;241m0\u001b[39m]\u001b[38;5;241m.\u001b[39mshape, axes, e)\n\u001b[0;32m   2143\u001b[0m \u001b[38;5;28;01mif\u001b[39;00m consolidate:\n\u001b[1;32m-> 2144\u001b[0m     \u001b[43mmgr\u001b[49m\u001b[38;5;241;43m.\u001b[39;49m\u001b[43m_consolidate_inplace\u001b[49m\u001b[43m(\u001b[49m\u001b[43m)\u001b[49m\n\u001b[0;32m   2145\u001b[0m \u001b[38;5;28;01mreturn\u001b[39;00m mgr\n",
      "File \u001b[1;32md:\\miniconda3\\envs\\ds_atwork\\Lib\\site-packages\\pandas\\core\\internals\\managers.py:1788\u001b[0m, in \u001b[0;36mBlockManager._consolidate_inplace\u001b[1;34m(self)\u001b[0m\n\u001b[0;32m   1782\u001b[0m \u001b[38;5;28;01mdef\u001b[39;00m \u001b[38;5;21m_consolidate_inplace\u001b[39m(\u001b[38;5;28mself\u001b[39m) \u001b[38;5;241m-\u001b[39m\u001b[38;5;241m>\u001b[39m \u001b[38;5;28;01mNone\u001b[39;00m:\n\u001b[0;32m   1783\u001b[0m     \u001b[38;5;66;03m# In general, _consolidate_inplace should only be called via\u001b[39;00m\n\u001b[0;32m   1784\u001b[0m     \u001b[38;5;66;03m#  DataFrame._consolidate_inplace, otherwise we will fail to invalidate\u001b[39;00m\n\u001b[0;32m   1785\u001b[0m     \u001b[38;5;66;03m#  the DataFrame's _item_cache. The exception is for newly-created\u001b[39;00m\n\u001b[0;32m   1786\u001b[0m     \u001b[38;5;66;03m#  BlockManager objects not yet attached to a DataFrame.\u001b[39;00m\n\u001b[0;32m   1787\u001b[0m     \u001b[38;5;28;01mif\u001b[39;00m \u001b[38;5;129;01mnot\u001b[39;00m \u001b[38;5;28mself\u001b[39m\u001b[38;5;241m.\u001b[39mis_consolidated():\n\u001b[1;32m-> 1788\u001b[0m         \u001b[38;5;28mself\u001b[39m\u001b[38;5;241m.\u001b[39mblocks \u001b[38;5;241m=\u001b[39m \u001b[43m_consolidate\u001b[49m\u001b[43m(\u001b[49m\u001b[38;5;28;43mself\u001b[39;49m\u001b[38;5;241;43m.\u001b[39;49m\u001b[43mblocks\u001b[49m\u001b[43m)\u001b[49m\n\u001b[0;32m   1789\u001b[0m         \u001b[38;5;28mself\u001b[39m\u001b[38;5;241m.\u001b[39m_is_consolidated \u001b[38;5;241m=\u001b[39m \u001b[38;5;28;01mTrue\u001b[39;00m\n\u001b[0;32m   1790\u001b[0m         \u001b[38;5;28mself\u001b[39m\u001b[38;5;241m.\u001b[39m_known_consolidated \u001b[38;5;241m=\u001b[39m \u001b[38;5;28;01mTrue\u001b[39;00m\n",
      "File \u001b[1;32md:\\miniconda3\\envs\\ds_atwork\\Lib\\site-packages\\pandas\\core\\internals\\managers.py:2269\u001b[0m, in \u001b[0;36m_consolidate\u001b[1;34m(blocks)\u001b[0m\n\u001b[0;32m   2267\u001b[0m new_blocks: \u001b[38;5;28mlist\u001b[39m[Block] \u001b[38;5;241m=\u001b[39m []\n\u001b[0;32m   2268\u001b[0m \u001b[38;5;28;01mfor\u001b[39;00m (_can_consolidate, dtype), group_blocks \u001b[38;5;129;01min\u001b[39;00m grouper:\n\u001b[1;32m-> 2269\u001b[0m     merged_blocks, _ \u001b[38;5;241m=\u001b[39m \u001b[43m_merge_blocks\u001b[49m\u001b[43m(\u001b[49m\n\u001b[0;32m   2270\u001b[0m \u001b[43m        \u001b[49m\u001b[38;5;28;43mlist\u001b[39;49m\u001b[43m(\u001b[49m\u001b[43mgroup_blocks\u001b[49m\u001b[43m)\u001b[49m\u001b[43m,\u001b[49m\u001b[43m \u001b[49m\u001b[43mdtype\u001b[49m\u001b[38;5;241;43m=\u001b[39;49m\u001b[43mdtype\u001b[49m\u001b[43m,\u001b[49m\u001b[43m \u001b[49m\u001b[43mcan_consolidate\u001b[49m\u001b[38;5;241;43m=\u001b[39;49m\u001b[43m_can_consolidate\u001b[49m\n\u001b[0;32m   2271\u001b[0m \u001b[43m    \u001b[49m\u001b[43m)\u001b[49m\n\u001b[0;32m   2272\u001b[0m     new_blocks \u001b[38;5;241m=\u001b[39m extend_blocks(merged_blocks, new_blocks)\n\u001b[0;32m   2273\u001b[0m \u001b[38;5;28;01mreturn\u001b[39;00m \u001b[38;5;28mtuple\u001b[39m(new_blocks)\n",
      "File \u001b[1;32md:\\miniconda3\\envs\\ds_atwork\\Lib\\site-packages\\pandas\\core\\internals\\managers.py:2294\u001b[0m, in \u001b[0;36m_merge_blocks\u001b[1;34m(blocks, dtype, can_consolidate)\u001b[0m\n\u001b[0;32m   2287\u001b[0m new_values: ArrayLike\n\u001b[0;32m   2289\u001b[0m \u001b[38;5;28;01mif\u001b[39;00m \u001b[38;5;28misinstance\u001b[39m(blocks[\u001b[38;5;241m0\u001b[39m]\u001b[38;5;241m.\u001b[39mdtype, np\u001b[38;5;241m.\u001b[39mdtype):\n\u001b[0;32m   2290\u001b[0m     \u001b[38;5;66;03m# error: List comprehension has incompatible type List[Union[ndarray,\u001b[39;00m\n\u001b[0;32m   2291\u001b[0m     \u001b[38;5;66;03m# ExtensionArray]]; expected List[Union[complex, generic,\u001b[39;00m\n\u001b[0;32m   2292\u001b[0m     \u001b[38;5;66;03m# Sequence[Union[int, float, complex, str, bytes, generic]],\u001b[39;00m\n\u001b[0;32m   2293\u001b[0m     \u001b[38;5;66;03m# Sequence[Sequence[Any]], SupportsArray]]\u001b[39;00m\n\u001b[1;32m-> 2294\u001b[0m     new_values \u001b[38;5;241m=\u001b[39m \u001b[43mnp\u001b[49m\u001b[38;5;241;43m.\u001b[39;49m\u001b[43mvstack\u001b[49m\u001b[43m(\u001b[49m\u001b[43m[\u001b[49m\u001b[43mb\u001b[49m\u001b[38;5;241;43m.\u001b[39;49m\u001b[43mvalues\u001b[49m\u001b[43m \u001b[49m\u001b[38;5;28;43;01mfor\u001b[39;49;00m\u001b[43m \u001b[49m\u001b[43mb\u001b[49m\u001b[43m \u001b[49m\u001b[38;5;129;43;01min\u001b[39;49;00m\u001b[43m \u001b[49m\u001b[43mblocks\u001b[49m\u001b[43m]\u001b[49m\u001b[43m)\u001b[49m  \u001b[38;5;66;03m# type: ignore[misc]\u001b[39;00m\n\u001b[0;32m   2295\u001b[0m \u001b[38;5;28;01melse\u001b[39;00m:\n\u001b[0;32m   2296\u001b[0m     bvals \u001b[38;5;241m=\u001b[39m [blk\u001b[38;5;241m.\u001b[39mvalues \u001b[38;5;28;01mfor\u001b[39;00m blk \u001b[38;5;129;01min\u001b[39;00m blocks]\n",
      "File \u001b[1;32md:\\miniconda3\\envs\\ds_atwork\\Lib\\site-packages\\numpy\\core\\shape_base.py:289\u001b[0m, in \u001b[0;36mvstack\u001b[1;34m(tup, dtype, casting)\u001b[0m\n\u001b[0;32m    287\u001b[0m \u001b[38;5;28;01mif\u001b[39;00m \u001b[38;5;129;01mnot\u001b[39;00m \u001b[38;5;28misinstance\u001b[39m(arrs, \u001b[38;5;28mlist\u001b[39m):\n\u001b[0;32m    288\u001b[0m     arrs \u001b[38;5;241m=\u001b[39m [arrs]\n\u001b[1;32m--> 289\u001b[0m \u001b[38;5;28;01mreturn\u001b[39;00m \u001b[43m_nx\u001b[49m\u001b[38;5;241;43m.\u001b[39;49m\u001b[43mconcatenate\u001b[49m\u001b[43m(\u001b[49m\u001b[43marrs\u001b[49m\u001b[43m,\u001b[49m\u001b[43m \u001b[49m\u001b[38;5;241;43m0\u001b[39;49m\u001b[43m,\u001b[49m\u001b[43m \u001b[49m\u001b[43mdtype\u001b[49m\u001b[38;5;241;43m=\u001b[39;49m\u001b[43mdtype\u001b[49m\u001b[43m,\u001b[49m\u001b[43m \u001b[49m\u001b[43mcasting\u001b[49m\u001b[38;5;241;43m=\u001b[39;49m\u001b[43mcasting\u001b[49m\u001b[43m)\u001b[49m\n",
      "\u001b[1;31mMemoryError\u001b[0m: Unable to allocate 1.06 GiB for an array with shape (608, 233234) and data type int64"
     ]
    }
   ],
   "source": [
    "train_df = pd.read_csv('data/train.csv')"
   ]
  },
  {
   "cell_type": "code",
   "execution_count": 4,
   "metadata": {},
   "outputs": [],
   "source": [
    "train_set_df = train_df[['agent1', 'agent2', 'EnglishRules', 'LudRules']]"
   ]
  },
  {
   "cell_type": "code",
   "execution_count": 26,
   "metadata": {},
   "outputs": [
    {
     "name": "stderr",
     "output_type": "stream",
     "text": [
      "100%|██████████| 1328/1328 [00:06<00:00, 215.91it/s]"
     ]
    },
    {
     "name": "stdout",
     "output_type": "stream",
     "text": [
      "858\n"
     ]
    },
    {
     "name": "stderr",
     "output_type": "stream",
     "text": [
      "\n"
     ]
    }
   ],
   "source": [
    "lud_preprocessor = layers.TextVectorization(\n",
    "    vocabulary='ludii_tokens.dic',\n",
    "    standardize='strip_punctuation'\n",
    ")\n",
    "\n",
    "eng_preprocessor = layers.TextVectorization(\n",
    "    vocabulary='eng_tokens.dic'\n",
    ")\n",
    "\n",
    "max_eng = 0\n",
    "max_lud = 0\n",
    "\n",
    "eng_uniques = train_set_df['EnglishRules'].unique()\n",
    "\n",
    "for engrul in tqdm(eng_uniques):\n",
    "    eng_vector = eng_preprocessor(engrul)\n",
    "    max_eng = max(max_eng, eng_vector.shape[0])\n",
    "\n",
    "print(max_eng)\n"
   ]
  },
  {
   "cell_type": "code",
   "execution_count": 23,
   "metadata": {},
   "outputs": [
    {
     "name": "stdout",
     "output_type": "stream",
     "text": [
      "23613\n"
     ]
    }
   ],
   "source": [
    "lud_uniques = train_set_df['LudRules'].unique()\n",
    "\n",
    "EQPMNT_RE = r'\\(equipment'\n",
    "RULESTRIP_RE = r'[^a-zA-Z\\(\\)\\{\\}]'\n",
    "\n",
    "for rule in lud_uniques:\n",
    "    start = re.search(EQPMNT_RE, rule).span()[0]\n",
    "    pure_rule = rule[start:]\n",
    "    pure_rule = re.sub(RULESTRIP_RE, ' ', pure_rule)\n",
    "    lud_vector = lud_preprocessor(pure_rule)\n",
    "    max_lud = max(max_lud, lud_vector.shape[0])\n",
    "\n",
    "print(max_lud)"
   ]
  },
  {
   "cell_type": "code",
   "execution_count": 30,
   "metadata": {},
   "outputs": [
    {
     "name": "stdout",
     "output_type": "stream",
     "text": [
      "{0: 'MCTS-ProgressiveHistory-0.1-MAST-false', 1: 'MCTS-ProgressiveHistory-0.1-MAST-true', 2: 'MCTS-ProgressiveHistory-0.1-NST-false', 3: 'MCTS-ProgressiveHistory-0.1-NST-true', 4: 'MCTS-ProgressiveHistory-0.1-Random200-false', 5: 'MCTS-ProgressiveHistory-0.1-Random200-true', 6: 'MCTS-ProgressiveHistory-0.6-MAST-false', 7: 'MCTS-ProgressiveHistory-0.6-MAST-true', 8: 'MCTS-ProgressiveHistory-0.6-NST-false', 9: 'MCTS-ProgressiveHistory-0.6-NST-true', 10: 'MCTS-ProgressiveHistory-0.6-Random200-false', 11: 'MCTS-ProgressiveHistory-0.6-Random200-true', 12: 'MCTS-ProgressiveHistory-1.41421356237-MAST-false', 13: 'MCTS-ProgressiveHistory-1.41421356237-MAST-true', 14: 'MCTS-ProgressiveHistory-1.41421356237-NST-false', 15: 'MCTS-ProgressiveHistory-1.41421356237-NST-true', 16: 'MCTS-ProgressiveHistory-1.41421356237-Random200-false', 17: 'MCTS-ProgressiveHistory-1.41421356237-Random200-true', 18: 'MCTS-UCB1-0.1-MAST-false', 19: 'MCTS-UCB1-0.1-MAST-true', 20: 'MCTS-UCB1-0.1-NST-false', 21: 'MCTS-UCB1-0.1-NST-true', 22: 'MCTS-UCB1-0.1-Random200-false', 23: 'MCTS-UCB1-0.1-Random200-true', 24: 'MCTS-UCB1-0.6-MAST-false', 25: 'MCTS-UCB1-0.6-MAST-true', 26: 'MCTS-UCB1-0.6-NST-false', 27: 'MCTS-UCB1-0.6-NST-true', 28: 'MCTS-UCB1-0.6-Random200-false', 29: 'MCTS-UCB1-0.6-Random200-true', 30: 'MCTS-UCB1-1.41421356237-MAST-false', 31: 'MCTS-UCB1-1.41421356237-MAST-true', 32: 'MCTS-UCB1-1.41421356237-NST-false', 33: 'MCTS-UCB1-1.41421356237-NST-true', 34: 'MCTS-UCB1-1.41421356237-Random200-false', 35: 'MCTS-UCB1-1.41421356237-Random200-true', 36: 'MCTS-UCB1GRAVE-0.1-MAST-false', 37: 'MCTS-UCB1GRAVE-0.1-MAST-true', 38: 'MCTS-UCB1GRAVE-0.1-NST-false', 39: 'MCTS-UCB1GRAVE-0.1-NST-true', 40: 'MCTS-UCB1GRAVE-0.1-Random200-false', 41: 'MCTS-UCB1GRAVE-0.1-Random200-true', 42: 'MCTS-UCB1GRAVE-0.6-MAST-false', 43: 'MCTS-UCB1GRAVE-0.6-MAST-true', 44: 'MCTS-UCB1GRAVE-0.6-NST-false', 45: 'MCTS-UCB1GRAVE-0.6-NST-true', 46: 'MCTS-UCB1GRAVE-0.6-Random200-false', 47: 'MCTS-UCB1GRAVE-0.6-Random200-true', 48: 'MCTS-UCB1GRAVE-1.41421356237-MAST-false', 49: 'MCTS-UCB1GRAVE-1.41421356237-MAST-true', 50: 'MCTS-UCB1GRAVE-1.41421356237-NST-false', 51: 'MCTS-UCB1GRAVE-1.41421356237-NST-true', 52: 'MCTS-UCB1GRAVE-1.41421356237-Random200-false', 53: 'MCTS-UCB1GRAVE-1.41421356237-Random200-true', 54: 'MCTS-UCB1Tuned-0.1-MAST-false', 55: 'MCTS-UCB1Tuned-0.1-MAST-true', 56: 'MCTS-UCB1Tuned-0.1-NST-false', 57: 'MCTS-UCB1Tuned-0.1-NST-true', 58: 'MCTS-UCB1Tuned-0.1-Random200-false', 59: 'MCTS-UCB1Tuned-0.1-Random200-true', 60: 'MCTS-UCB1Tuned-0.6-MAST-false', 61: 'MCTS-UCB1Tuned-0.6-MAST-true', 62: 'MCTS-UCB1Tuned-0.6-NST-false', 63: 'MCTS-UCB1Tuned-0.6-NST-true', 64: 'MCTS-UCB1Tuned-0.6-Random200-false', 65: 'MCTS-UCB1Tuned-0.6-Random200-true', 66: 'MCTS-UCB1Tuned-1.41421356237-MAST-false', 67: 'MCTS-UCB1Tuned-1.41421356237-MAST-true', 68: 'MCTS-UCB1Tuned-1.41421356237-NST-false', 69: 'MCTS-UCB1Tuned-1.41421356237-NST-true', 70: 'MCTS-UCB1Tuned-1.41421356237-Random200-false', 71: 'MCTS-UCB1Tuned-1.41421356237-Random200-true'}\n",
      "{'MCTS-ProgressiveHistory-0.1-MAST-false': 0, 'MCTS-ProgressiveHistory-0.1-MAST-true': 1, 'MCTS-ProgressiveHistory-0.1-NST-false': 2, 'MCTS-ProgressiveHistory-0.1-NST-true': 3, 'MCTS-ProgressiveHistory-0.1-Random200-false': 4, 'MCTS-ProgressiveHistory-0.1-Random200-true': 5, 'MCTS-ProgressiveHistory-0.6-MAST-false': 6, 'MCTS-ProgressiveHistory-0.6-MAST-true': 7, 'MCTS-ProgressiveHistory-0.6-NST-false': 8, 'MCTS-ProgressiveHistory-0.6-NST-true': 9, 'MCTS-ProgressiveHistory-0.6-Random200-false': 10, 'MCTS-ProgressiveHistory-0.6-Random200-true': 11, 'MCTS-ProgressiveHistory-1.41421356237-MAST-false': 12, 'MCTS-ProgressiveHistory-1.41421356237-MAST-true': 13, 'MCTS-ProgressiveHistory-1.41421356237-NST-false': 14, 'MCTS-ProgressiveHistory-1.41421356237-NST-true': 15, 'MCTS-ProgressiveHistory-1.41421356237-Random200-false': 16, 'MCTS-ProgressiveHistory-1.41421356237-Random200-true': 17, 'MCTS-UCB1-0.1-MAST-false': 18, 'MCTS-UCB1-0.1-MAST-true': 19, 'MCTS-UCB1-0.1-NST-false': 20, 'MCTS-UCB1-0.1-NST-true': 21, 'MCTS-UCB1-0.1-Random200-false': 22, 'MCTS-UCB1-0.1-Random200-true': 23, 'MCTS-UCB1-0.6-MAST-false': 24, 'MCTS-UCB1-0.6-MAST-true': 25, 'MCTS-UCB1-0.6-NST-false': 26, 'MCTS-UCB1-0.6-NST-true': 27, 'MCTS-UCB1-0.6-Random200-false': 28, 'MCTS-UCB1-0.6-Random200-true': 29, 'MCTS-UCB1-1.41421356237-MAST-false': 30, 'MCTS-UCB1-1.41421356237-MAST-true': 31, 'MCTS-UCB1-1.41421356237-NST-false': 32, 'MCTS-UCB1-1.41421356237-NST-true': 33, 'MCTS-UCB1-1.41421356237-Random200-false': 34, 'MCTS-UCB1-1.41421356237-Random200-true': 35, 'MCTS-UCB1GRAVE-0.1-MAST-false': 36, 'MCTS-UCB1GRAVE-0.1-MAST-true': 37, 'MCTS-UCB1GRAVE-0.1-NST-false': 38, 'MCTS-UCB1GRAVE-0.1-NST-true': 39, 'MCTS-UCB1GRAVE-0.1-Random200-false': 40, 'MCTS-UCB1GRAVE-0.1-Random200-true': 41, 'MCTS-UCB1GRAVE-0.6-MAST-false': 42, 'MCTS-UCB1GRAVE-0.6-MAST-true': 43, 'MCTS-UCB1GRAVE-0.6-NST-false': 44, 'MCTS-UCB1GRAVE-0.6-NST-true': 45, 'MCTS-UCB1GRAVE-0.6-Random200-false': 46, 'MCTS-UCB1GRAVE-0.6-Random200-true': 47, 'MCTS-UCB1GRAVE-1.41421356237-MAST-false': 48, 'MCTS-UCB1GRAVE-1.41421356237-MAST-true': 49, 'MCTS-UCB1GRAVE-1.41421356237-NST-false': 50, 'MCTS-UCB1GRAVE-1.41421356237-NST-true': 51, 'MCTS-UCB1GRAVE-1.41421356237-Random200-false': 52, 'MCTS-UCB1GRAVE-1.41421356237-Random200-true': 53, 'MCTS-UCB1Tuned-0.1-MAST-false': 54, 'MCTS-UCB1Tuned-0.1-MAST-true': 55, 'MCTS-UCB1Tuned-0.1-NST-false': 56, 'MCTS-UCB1Tuned-0.1-NST-true': 57, 'MCTS-UCB1Tuned-0.1-Random200-false': 58, 'MCTS-UCB1Tuned-0.1-Random200-true': 59, 'MCTS-UCB1Tuned-0.6-MAST-false': 60, 'MCTS-UCB1Tuned-0.6-MAST-true': 61, 'MCTS-UCB1Tuned-0.6-NST-false': 62, 'MCTS-UCB1Tuned-0.6-NST-true': 63, 'MCTS-UCB1Tuned-0.6-Random200-false': 64, 'MCTS-UCB1Tuned-0.6-Random200-true': 65, 'MCTS-UCB1Tuned-1.41421356237-MAST-false': 66, 'MCTS-UCB1Tuned-1.41421356237-MAST-true': 67, 'MCTS-UCB1Tuned-1.41421356237-NST-false': 68, 'MCTS-UCB1Tuned-1.41421356237-NST-true': 69, 'MCTS-UCB1Tuned-1.41421356237-Random200-false': 70, 'MCTS-UCB1Tuned-1.41421356237-Random200-true': 71}\n",
      "72\n"
     ]
    }
   ],
   "source": [
    "agent1_uniques = train_set_df['agent1'].unique()\n",
    "agent2_uniques = train_set_df['agent2'].unique()\n",
    "\n",
    "set(agent1_uniques) >= set(agent2_uniques)\n",
    "\n",
    "code_agent = {}\n",
    "agent_code = {}\n",
    "\n",
    "for id, agent in enumerate(agent1_uniques):\n",
    "    code_agent[id] = agent\n",
    "    agent_code[agent] = id\n"
   ]
  },
  {
   "cell_type": "markdown",
   "metadata": {},
   "source": [
    "eng_vector.shape=(900,)\n",
    "\n",
    "lud_vector.shape=(23700,)\n",
    "\n",
    "agents_to_categorical.shape=(144)"
   ]
  },
  {
   "cell_type": "code",
   "execution_count": 2,
   "metadata": {},
   "outputs": [
    {
     "ename": "NameError",
     "evalue": "name 'layers' is not defined",
     "output_type": "error",
     "traceback": [
      "\u001b[1;31m---------------------------------------------------------------------------\u001b[0m",
      "\u001b[1;31mNameError\u001b[0m                                 Traceback (most recent call last)",
      "Cell \u001b[1;32mIn[2], line 8\u001b[0m\n\u001b[0;32m      5\u001b[0m engvector_len \u001b[38;5;241m=\u001b[39m \u001b[38;5;241m900\u001b[39m\n\u001b[0;32m      6\u001b[0m ludvector_len \u001b[38;5;241m=\u001b[39m \u001b[38;5;241m23700\u001b[39m\n\u001b[1;32m----> 8\u001b[0m enter \u001b[38;5;241m=\u001b[39m \u001b[43mlayers\u001b[49m\u001b[38;5;241m.\u001b[39mInput(shape\u001b[38;5;241m=\u001b[39m(\u001b[38;5;241m24744\u001b[39m,))\n\u001b[0;32m      9\u001b[0m agent_input_layer \u001b[38;5;241m=\u001b[39m layers\u001b[38;5;241m.\u001b[39mInput(shape\u001b[38;5;241m=\u001b[39m(agents_len,))\n\u001b[0;32m     10\u001b[0m agent_input_data \u001b[38;5;241m=\u001b[39m ops\u001b[38;5;241m.\u001b[39mslice(enter, (\u001b[38;5;241m0\u001b[39m,), (agents_len,))\n",
      "\u001b[1;31mNameError\u001b[0m: name 'layers' is not defined"
     ]
    }
   ],
   "source": [
    "# 900+23700+144 = 24744\n",
    "# defining input shape and input data distribution\n",
    "\n",
    "agents_len = 144\n",
    "engvector_len = 900\n",
    "ludvector_len = 23700\n",
    "\n",
    "enter = layers.Input(shape=(24744,))\n",
    "agent_input_layer = layers.Input(shape=(agents_len,))\n",
    "agent_input_data = ops.slice(enter, (0,), (agents_len,))\n",
    "\n",
    "engrul_input_layer = layers.Input(shape=(engvector_len,))\n",
    "engrul_input_data = ops.slice(enter, (agents_len,), (engvector_len,))\n",
    "\n",
    "ludrul_input_layer = layers.Input(shape=(ludvector_len,))\n",
    "ludrul_input_data = ops.slice(enter, (agents_len+engvector_len,), (ludvector_len,))"
   ]
  },
  {
   "cell_type": "code",
   "execution_count": 1,
   "metadata": {},
   "outputs": [],
   "source": [
    "# English rules LSTM features extractor.\n",
    "# \n",
    "# Train set contains 587 preextracted features.\n",
    "# Let`s assume that game rule contains these features and ather that describes \n",
    "# Number of these features is unknown and needs to be discovered\n",
    "# presume that total amount of fetures, that are important for game result prediction is not less then double amount \n",
    "# of preextracted features and to be 1200\n",
    "\n",
    "FEATURES_NUM = 1200\n"
   ]
  },
  {
   "cell_type": "code",
   "execution_count": null,
   "metadata": {},
   "outputs": [],
   "source": []
  }
 ],
 "metadata": {
  "kernelspec": {
   "display_name": "ds_atwork",
   "language": "python",
   "name": "python3"
  },
  "language_info": {
   "codemirror_mode": {
    "name": "ipython",
    "version": 3
   },
   "file_extension": ".py",
   "mimetype": "text/x-python",
   "name": "python",
   "nbconvert_exporter": "python",
   "pygments_lexer": "ipython3",
   "version": "3.12.5"
  }
 },
 "nbformat": 4,
 "nbformat_minor": 2
}
